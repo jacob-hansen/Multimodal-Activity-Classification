{
  "nbformat": 4,
  "nbformat_minor": 0,
  "metadata": {
    "colab": {
      "name": "YelpScrapper.ipynb",
      "provenance": [],
      "collapsed_sections": [],
      "include_colab_link": true
    },
    "kernelspec": {
      "name": "python3",
      "display_name": "Python 3"
    },
    "language_info": {
      "name": "python"
    }
  },
  "cells": [
    {
      "cell_type": "markdown",
      "metadata": {
        "id": "view-in-github",
        "colab_type": "text"
      },
      "source": [
        "<a href=\"https://colab.research.google.com/github/jacob-hansen/Multimodal-Activity-Classification/blob/main/YelpScrapper.ipynb\" target=\"_parent\"><img src=\"https://colab.research.google.com/assets/colab-badge.svg\" alt=\"Open In Colab\"/></a>"
      ]
    },
    {
      "cell_type": "markdown",
      "source": [
        "# Set Up "
      ],
      "metadata": {
        "id": "F1QozdA726yE"
      }
    },
    {
      "cell_type": "code",
      "execution_count": 18,
      "metadata": {
        "id": "00YC6mRwTjxr"
      },
      "outputs": [],
      "source": [
        "import requests\n",
        "from csv import writer\n",
        "from bs4 import BeautifulSoup\n",
        "from time import sleep\n",
        "import random"
      ]
    },
    {
      "cell_type": "code",
      "source": [
        "from google.colab import auth\n",
        "auth.authenticate_user()\n",
        "\n",
        "import gspread\n",
        "from oauth2client.client import GoogleCredentials\n",
        "\n",
        "gc = gspread.authorize(GoogleCredentials.get_application_default())"
      ],
      "metadata": {
        "id": "wfVb4ZZ-kKp3"
      },
      "execution_count": 31,
      "outputs": []
    },
    {
      "cell_type": "code",
      "source": [
        "worksheet = gc.open('A new spreadsheet').sheet1\n",
        "# sh = gc.create('Yelp Scraping Data') # Create New File if Excel File Doesn't Exist Already"
      ],
      "metadata": {
        "id": "LpLCEwphogSs"
      },
      "execution_count": 3,
      "outputs": []
    },
    {
      "cell_type": "code",
      "source": [
        "citiesList = [[\"MA\", \"Boston\"]]#, [\"MA\", \"Cambridge\"]]\n",
        "maxListings = 100 # takes approximatly the top 10*(maxListings//10) listings\n",
        "maxReviewNum = 100 # takes approximatly the top 10*(maxReviewNum//10) reviews\n",
        "tempReview = []  # temporarily stores review data\n",
        "headerrow = [\"Place Number\", \"Place Name\", \"Review Rating\", \"Text\", \"Place URL\"]"
      ],
      "metadata": {
        "id": "kSUFj2tVTlqY"
      },
      "execution_count": 15,
      "outputs": []
    },
    {
      "cell_type": "code",
      "source": [
        "worksheet = gc.open('Yelp Scraping Data 2').sheet1\n",
        "worksheet.update('A'+str(1)+':E'+str(1), [headerrow])"
      ],
      "metadata": {
        "colab": {
          "base_uri": "https://localhost:8080/"
        },
        "id": "Wz3tExEXkTD3",
        "outputId": "5ed57d06-5ab7-46e1-ffdd-ecc52693a3f7"
      },
      "execution_count": 16,
      "outputs": [
        {
          "output_type": "execute_result",
          "data": {
            "text/plain": [
              "{'spreadsheetId': '1hFX2g3wOcBb1hbcJ3yXZKF8W7ZqwaBTl3vjFtUXMwug',\n",
              " 'updatedCells': 5,\n",
              " 'updatedColumns': 5,\n",
              " 'updatedRange': 'Sheet1!A1:E1',\n",
              " 'updatedRows': 1}"
            ]
          },
          "metadata": {},
          "execution_count": 16
        }
      ]
    },
    {
      "cell_type": "markdown",
      "source": [
        "# Collect List of Places (up to maxListings)"
      ],
      "metadata": {
        "id": "PebQH1aX3ACl"
      }
    },
    {
      "cell_type": "code",
      "source": [
        "cityPlaces = []\n",
        "for row in citiesList:\n",
        "    currentState = row[0]\n",
        "    for currentCity in row[1:]:\n",
        "        searchURL = (\n",
        "            \"https://www.yelp.com/search?find_desc=activities&find_loc=\"\n",
        "            + currentCity\n",
        "            + \"%2C+\"\n",
        "            + currentState\n",
        "            + \"&ns=1&sortby=review_count&start=\"\n",
        "        )\n",
        "        placeList = []\n",
        "        i = 0\n",
        "        while i < maxListings:\n",
        "            \"\"\"Pull All the objects of the right class from each page\"\"\"\n",
        "            restaurantSearchPage = requests.get(searchURL+str(i))\n",
        "            restaurantSearchPageSoup = BeautifulSoup(\n",
        "                restaurantSearchPage.text, \"html.parser\")\n",
        "            newData = restaurantSearchPageSoup.findAll(class_=\"css-1uq0cfn\")\n",
        "            \"\"\"Pull URL extentions for objects of interest\"\"\"\n",
        "            noValidData = True\n",
        "            for data in newData:\n",
        "                try:\n",
        "                    if not data.find(\"a\")[\"href\"]:\n",
        "                        continue\n",
        "                    else:\n",
        "                        placeURLEnding = data.find(\"a\")[\"href\"]\n",
        "                        placeList.append(placeURLEnding)\n",
        "                        noValidData = False\n",
        "                except TypeError:\n",
        "                    continue\n",
        "            if noValidData: # Page has no more listings\n",
        "                break\n",
        "            else: # Up the count and keep searching\n",
        "                i += 10\n",
        "            sleep(random.uniform(0, 5)) # Wait random time 0-2 seconds to not get blocked\n",
        "\n",
        "        cityPlaces.append(placeList)\n",
        "\n",
        "  \n",
        "        # gets URL for each restaurant listing\n",
        "        "
      ],
      "metadata": {
        "id": "muVbk70LTxr0"
      },
      "execution_count": 17,
      "outputs": []
    },
    {
      "cell_type": "markdown",
      "source": [
        "# For Each Place, Get The Reviews (up to maxReviewNum)"
      ],
      "metadata": {
        "id": "EwwmKT933FTz"
      }
    },
    {
      "cell_type": "code",
      "source": [
        "worksheet = gc.open('Yelp Scraping Data').sheet1\n",
        "activityInc = 1 # Starting Activity Number\n",
        "worksheetRow = 2 # What Row in File to Start At \n",
        "# worksheet.update('G3', repr(cityPlaces)) # Optional Add List of cityPlaces to Cells in the first row \n",
        "\n",
        "for city in cityPlaces:\n",
        "  for urlExt in city[10:]:\n",
        "      print(\"Scraping \"+\"https://yelp.com\"+urlExt)\n",
        "      placeURL = \"https://yelp.com\" + urlExt\n",
        "      placeName = ((urlExt.split(\"/\")[-1]).split(\"?\"))[0].replace(\"-\", \" \")\n",
        "      i = 0\n",
        "      while i < maxReviewNum:\n",
        "          try:\n",
        "              placeURL = \"https://yelp.com/\" + urlExt + \"&start=\" + str(i)\n",
        "              placePage = requests.get(placeURL)\n",
        "              placePageSoup = BeautifulSoup(\n",
        "                  placePage.text, \"html.parser\")\n",
        "              i += 10\n",
        "              reviewsRawList = placePageSoup.findAll(\"div\", class_=\" review__09f24__oHr9V border-color--default__09f24__NPAKY\",)\n",
        "              for review in reviewsRawList:\n",
        "                  reviewRating = int(review.find(class_=\"i-stars__09f24__foihJ\").get(\"aria-label\")[0])\n",
        "                  reviewText = review.find(class_ = \"raw__09f24__T4Ezm\").get_text()\n",
        "                  tempReview = []\n",
        "                  tempReview.append(activityInc)\n",
        "                  tempReview.append(placeName)\n",
        "                  tempReview.append(reviewRating)\n",
        "                  tempReview.append(reviewText)\n",
        "                  tempReview.append(placeURL)\n",
        "                  worksheet.update('A'+str(worksheetRow)+':E'+str(worksheetRow), [tempReview])\n",
        "                  worksheetRow+=1\n",
        "              print(len(reviewsRawList))\n",
        "              sleep(random.uniform(0, 5))  # Wait random time 0-2 seconds to not get blocked\n",
        "          except:\n",
        "              sleep(60)\n",
        "              continue\n",
        "      activityInc += 1\n",
        "      print(activityInc)\n"
      ],
      "metadata": {
        "id": "X_3k3DWXUANW"
      },
      "execution_count": null,
      "outputs": []
    },
    {
      "cell_type": "code",
      "source": [
        ""
      ],
      "metadata": {
        "id": "Lm0GLRBE4Voo"
      },
      "execution_count": null,
      "outputs": []
    }
  ]
}