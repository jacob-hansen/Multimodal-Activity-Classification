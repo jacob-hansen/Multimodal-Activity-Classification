{
 "cells": [
  {
   "cell_type": "code",
   "execution_count": 158,
   "metadata": {},
   "outputs": [
    {
     "name": "stdout",
     "output_type": "stream",
     "text": [
      "2.7.0\n"
     ]
    },
    {
     "name": "stderr",
     "output_type": "stream",
     "text": [
      "[nltk_data] Downloading package stopwords to\n",
      "[nltk_data]     C:\\Users\\evely\\AppData\\Roaming\\nltk_data...\n",
      "[nltk_data]   Package stopwords is already up-to-date!\n"
     ]
    }
   ],
   "source": [
    "import tensorflow as tf\n",
    "import numpy as np\n",
    "import os\n",
    "import re\n",
    "import csv\n",
    "from IPython import display as ipythondisplay\n",
    "from tqdm import tqdm\n",
    "import nltk\n",
    "from gensim.models import Word2Vec\n",
    "from datetime import datetime\n",
    "from keras.callbacks import EarlyStopping\n",
    "\n",
    "nltk.download('stopwords')\n",
    "from nltk.corpus import stopwords\n",
    "\n",
    "print(tf.__version__)"
   ]
  },
  {
   "cell_type": "code",
   "execution_count": 87,
   "metadata": {},
   "outputs": [],
   "source": [
    "STOPWORDS = set(stopwords.words('english'))"
   ]
  },
  {
   "cell_type": "code",
   "execution_count": 88,
   "metadata": {},
   "outputs": [
    {
     "name": "stdout",
     "output_type": "stream",
     "text": [
      "2225 [[1. 0. 0. 0. 0.]\n",
      " [0. 1. 0. 0. 0.]\n",
      " [0. 0. 1. 0. 0.]\n",
      " [0. 0. 1. 0. 0.]\n",
      " [0. 0. 0. 1. 0.]\n",
      " [0. 0. 0. 0. 1.]\n",
      " [0. 0. 0. 0. 1.]\n",
      " [0. 0. 1. 0. 0.]\n",
      " [0. 0. 1. 0. 0.]\n",
      " [0. 0. 0. 1. 0.]]\n",
      "2225 ['tv', 'future', 'hands', 'viewers', 'home', 'theatre', 'systems', 'plasma', 'high', 'definition', 'tvs', 'digital', 'video', 'recorders', 'moving', 'living', 'room', 'way', 'people', 'watch', 'tv', 'radically', 'different', 'five', 'years', 'time', 'according', 'expert', 'panel', 'gathered', 'annual', 'consumer', 'electronics', 'show', 'las', 'vegas', 'discuss', 'new', 'technologies', 'impact', 'one', 'favourite', 'pastimes', 'us', 'leading', 'trend', 'programmes', 'content', 'delivered', 'viewers', 'via', 'home', 'networks', 'cable', 'satellite', 'telecoms', 'companies', 'broadband', 'service', 'providers', 'front', 'rooms', 'portable', 'devices', 'one', 'talked', 'about', 'technologies', 'ces', 'digital', 'personal', 'video', 'recorders', 'dvr', 'pvr', 'set', 'top', 'boxes', 'like', 'us', 'tivo', 'uk', 'sky+', 'system', 'allow', 'people', 'record', 'store', 'play', 'pause', 'forward', 'wind', 'tv', 'programmes', 'want', 'essentially', 'technology', 'allows', 'much', 'personalised', 'tv', 'also', 'built', 'in', 'high', 'definition', 'tv', 'sets', 'big', 'business', 'japan', 'us', 'slower', 'take', 'europe', 'lack', 'high', 'definition', 'programming', 'people', 'forward', 'wind', 'adverts', 'also', 'forget', 'abiding', 'network', 'channel', 'schedules', 'putting', 'together', 'a', 'la', 'carte', 'entertainment', 'us', 'networks', 'cable', 'satellite', 'companies', 'worried', 'means', 'terms', 'advertising', 'revenues', 'well', 'brand', 'identity', 'viewer', 'loyalty', 'channels', 'although', 'us', 'leads', 'technology', 'moment', 'also', 'concern', 'raised', 'europe', 'particularly', 'growing', 'uptake', 'services', 'like', 'sky+', 'happens', 'today', 'see', 'nine', 'months', 'years', 'time', 'uk', 'adam', 'hume', 'bbc', 'broadcast', 'futurologist', 'told', 'bbc', 'news', 'website', 'likes', 'bbc', 'issues', 'lost', 'advertising', 'revenue', 'yet', 'pressing', 'issue', 'moment', 'commercial', 'uk', 'broadcasters', 'brand', 'loyalty', 'important', 'everyone', 'talking', 'content', 'brands', 'rather', 'network', 'brands', 'said', 'tim', 'hanlon', 'brand', 'communications', 'firm', 'starcom', 'mediavest', 'reality', 'broadband', 'connections', 'anybody', 'producer', 'content', 'added', 'challenge', 'hard', 'promote', 'programme', 'much', 'choice', 'means', 'said', 'stacey', 'jolna', 'senior', 'vice', 'president', 'tv', 'guide', 'tv', 'group', 'way', 'people', 'find', 'content', 'want', 'watch', 'simplified', 'tv', 'viewers', 'means', 'networks', 'us', 'terms', 'channels', 'could', 'take', 'leaf', 'google', 'book', 'search', 'engine', 'future', 'instead', 'scheduler', 'help', 'people', 'find', 'want', 'watch', 'kind', 'channel', 'model', 'might', 'work', 'younger', 'ipod', 'generation', 'used', 'taking', 'control', 'gadgets', 'play', 'them', 'might', 'suit', 'everyone', 'panel', 'recognised', 'older', 'generations', 'comfortable', 'familiar', 'schedules', 'channel', 'brands', 'know', 'getting', 'perhaps', 'want', 'much', 'choice', 'put', 'hands', 'mr', 'hanlon', 'suggested', 'end', 'kids', 'diapers', 'pushing', 'buttons', 'already', 'everything', 'possible', 'available', 'said', 'mr', 'hanlon', 'ultimately', 'consumer', 'tell', 'market', 'want', '50', '000', 'new', 'gadgets', 'technologies', 'showcased', 'ces', 'many', 'enhancing', 'tv', 'watching', 'experience', 'high', 'definition', 'tv', 'sets', 'everywhere', 'many', 'new', 'models', 'lcd', 'liquid', 'crystal', 'display', 'tvs', 'launched', 'dvr', 'capability', 'built', 'instead', 'external', 'boxes', 'one', 'example', 'launched', 'show', 'humax', '26', 'inch', 'lcd', 'tv', '80', 'hour', 'tivo', 'dvr', 'dvd', 'recorder', 'one', 'us', 'biggest', 'satellite', 'tv', 'companies', 'directtv', 'even', 'launched', 'branded', 'dvr', 'show', '100', 'hours', 'recording', 'capability', 'instant', 'replay', 'search', 'function', 'set', 'pause', 'rewind', 'tv', '90', 'hours', 'microsoft', 'chief', 'bill', 'gates', 'announced', 'pre', 'show', 'keynote', 'speech', 'partnership', 'tivo', 'called', 'tivotogo', 'means', 'people', 'play', 'recorded', 'programmes', 'windows', 'pcs', 'mobile', 'devices', 'reflect', 'increasing', 'trend', 'freeing', 'multimedia', 'people', 'watch', 'want', 'want']\n"
     ]
    }
   ],
   "source": [
    "articles = []\n",
    "labels = []\n",
    "label_dict = {}\n",
    "reverse_label_dict = {}\n",
    "\n",
    "label_ind = 0\n",
    "with open(\"../Data/bbc-text.csv\", 'r') as csvfile:\n",
    "    reader = csv.reader(csvfile, delimiter=',')\n",
    "    next(reader)\n",
    "    for row in reader:\n",
    "        if row[0] not in label_dict:\n",
    "            label_dict[row[0]] = label_ind\n",
    "            reverse_label_dict[label_ind] = row[0]\n",
    "            label_ind += 1\n",
    "\n",
    "        labels.append(label_dict[row[0]])\n",
    "        article = row[1]\n",
    "        for word in STOPWORDS:\n",
    "            token = ' ' + word + ' '\n",
    "            article = article.replace(token, ' ')\n",
    "            article = article.replace(' ', ' ')\n",
    "        articles.append([word for word in re.split(',|_|-|\\!| |\\.|\\(|\\)|\\:|\\?', article) if word != ''])\n",
    "\n",
    "a = np.array(labels)\n",
    "b = np.zeros((a.size, a.max()+1))\n",
    "b[np.arange(a.size),a] = 1\n",
    "labels = b\n",
    "\n",
    "print(len(labels), labels[:10])\n",
    "print(len(articles), articles[0])"
   ]
  },
  {
   "cell_type": "code",
   "execution_count": 89,
   "metadata": {},
   "outputs": [
    {
     "name": "stdout",
     "output_type": "stream",
     "text": [
      "Word2Vec(vocab=30495, vector_size=100, alpha=0.025)\n",
      "100\n"
     ]
    }
   ],
   "source": [
    "WVmodel = Word2Vec(articles, min_count=1)\n",
    "print(WVmodel)\n",
    "words = list(WVmodel.wv.key_to_index.keys())\n",
    "# print(words)\n",
    "# print(WVmodel.wv['mr'])\n",
    "# save model\n",
    "print(WVmodel.vector_size)\n",
    "WVmodel.save('model.bin')\n",
    "# load model\n",
    "# new_model = Word2Vec.load('model.bin')"
   ]
  },
  {
   "cell_type": "code",
   "execution_count": 90,
   "metadata": {},
   "outputs": [],
   "source": [
    "vocab_size = len(WVmodel.wv)\n",
    "embedding_dim = WVmodel.vector_size\n",
    "max_length = 200\n",
    "padding_value = np.zeros(embedding_dim)\n",
    "training_portion = .8"
   ]
  },
  {
   "cell_type": "code",
   "execution_count": 91,
   "metadata": {},
   "outputs": [],
   "source": [
    "train_size = int(len(articles) * training_portion)\n",
    "\n",
    "train_articles = articles[0: train_size]\n",
    "train_sequences = [[WVmodel.wv[word] for word in article] for article in train_articles]\n",
    "train_labels = labels[0: train_size]\n",
    "\n",
    "validation_articles = articles[train_size:]\n",
    "validation_sequences = [[WVmodel.wv[word] for word in article] for article in validation_articles]\n",
    "validation_labels = labels[train_size:]"
   ]
  },
  {
   "cell_type": "code",
   "execution_count": 92,
   "metadata": {},
   "outputs": [],
   "source": [
    "def pad(x, maxlen, value):\n",
    "    new_x = np.array([np.array([value for w in range(maxlen)]) for a in x])\n",
    "    for i in range(len(x)):\n",
    "        if len(x[i]) <= maxlen:\n",
    "            new_x[i, :len(x[i])] = np.array(x[i])\n",
    "        else:\n",
    "            new_x[i] = np.array(x[i][:maxlen])\n",
    "    return new_x"
   ]
  },
  {
   "cell_type": "code",
   "execution_count": 93,
   "metadata": {},
   "outputs": [],
   "source": [
    "train_padded = pad(train_sequences, maxlen=max_length, value=padding_value)\n",
    "validation_padded = pad(validation_sequences, maxlen=max_length, value=padding_value)"
   ]
  },
  {
   "cell_type": "code",
   "execution_count": 94,
   "metadata": {},
   "outputs": [],
   "source": [
    "def get_batch(articles, labels, batch_size):\n",
    "    idx = np.random.choice(len(articles), batch_size)\n",
    "\n",
    "    x_batch = np.array([articles[i] for i in idx])\n",
    "    y_batch = np.array([labels[i] for i in idx])\n",
    "  \n",
    "    return x_batch, y_batch"
   ]
  },
  {
   "cell_type": "code",
   "execution_count": 95,
   "metadata": {},
   "outputs": [],
   "source": [
    "def build_model(rnn_units, dense_units, output_units):\n",
    "    model = tf.keras.Sequential([\n",
    "        tf.keras.layers.Bidirectional(tf.keras.layers.LSTM(rnn_units)),\n",
    "        tf.keras.layers.Dense(dense_units, activation='relu'),\n",
    "        tf.keras.layers.Dense(output_units, activation='softmax')\n",
    "    ])\n",
    "\n",
    "    return model"
   ]
  },
  {
   "cell_type": "code",
   "execution_count": 130,
   "metadata": {},
   "outputs": [],
   "source": [
    "def compute_loss(labels, y):\n",
    "  loss = tf.keras.metrics.categorical_crossentropy(labels, y)\n",
    "  return loss"
   ]
  },
  {
   "cell_type": "code",
   "execution_count": 139,
   "metadata": {},
   "outputs": [],
   "source": [
    "# Optimization parameters:\n",
    "num_training_iterations = 2000  # Increase this to train longer\n",
    "batch_size = 4  # Experiment between 1 and 64\n",
    "seq_length = 100  # Experiment between 50 and 500\n",
    "learning_rate = 5e-3  # Experiment between 1e-5 and 1e-1\n",
    "epsilon = 1e-3\n",
    "\n",
    "# Model parameters\n",
    "rnn_units = 1024\n",
    "dense_units = 256\n",
    "num_categories = len(labels[0])\n",
    "\n",
    "# Checkpoint location: \n",
    "checkpoint_dir = './training_checkpoints'\n",
    "checkpoint_prefix = os.path.join(checkpoint_dir, \"my_ckpt\")"
   ]
  },
  {
   "cell_type": "code",
   "execution_count": 140,
   "metadata": {},
   "outputs": [],
   "source": [
    "model = build_model(rnn_units=rnn_units, dense_units=dense_units, output_units=num_categories)"
   ]
  },
  {
   "cell_type": "code",
   "execution_count": 166,
   "metadata": {},
   "outputs": [
    {
     "name": "stdout",
     "output_type": "stream",
     "text": [
      "Epoch 1/10\n",
      "56/56 [==============================] - 585s 10s/step - loss: 1.0145 - accuracy: 0.5989 - val_loss: 0.9231 - val_accuracy: 0.6494\n",
      "Epoch 2/10\n",
      "56/56 [==============================] - 573s 10s/step - loss: 0.8117 - accuracy: 0.6921 - val_loss: 0.7937 - val_accuracy: 0.6944\n",
      "Epoch 3/10\n",
      "56/56 [==============================] - 674s 12s/step - loss: 0.6702 - accuracy: 0.7478 - val_loss: 0.6392 - val_accuracy: 0.7753\n",
      "Epoch 4/10\n",
      "56/56 [==============================] - 635s 11s/step - loss: 0.5284 - accuracy: 0.8129 - val_loss: 0.6332 - val_accuracy: 0.7483\n",
      "Epoch 5/10\n",
      "56/56 [==============================] - 589s 11s/step - loss: 0.4743 - accuracy: 0.8421 - val_loss: 0.5677 - val_accuracy: 0.8067\n",
      "Epoch 6/10\n",
      "56/56 [==============================] - 454s 8s/step - loss: 0.4756 - accuracy: 0.8444 - val_loss: 0.5767 - val_accuracy: 0.8022\n",
      "Epoch 7/10\n",
      "56/56 [==============================] - 522s 9s/step - loss: 0.5275 - accuracy: 0.8236 - val_loss: 0.6946 - val_accuracy: 0.7618\n",
      "Epoch 8/10\n",
      "56/56 [==============================] - 655s 12s/step - loss: 0.5678 - accuracy: 0.8135 - val_loss: 0.5041 - val_accuracy: 0.8180\n",
      "Epoch 9/10\n",
      "56/56 [==============================] - 578s 10s/step - loss: 0.3888 - accuracy: 0.8770 - val_loss: 0.4143 - val_accuracy: 0.8674\n",
      "Epoch 10/10\n",
      "56/56 [==============================] - 684s 12s/step - loss: 0.5093 - accuracy: 0.8320 - val_loss: 0.4350 - val_accuracy: 0.8719\n"
     ]
    }
   ],
   "source": [
    "model.compile(loss='categorical_crossentropy', optimizer='adam', metrics=['accuracy'])\n",
    "num_epochs = 10\n",
    "# es = EarlyStopping(monitor='val_loss', mode='min', verbose=1)\n",
    "\n",
    "\n",
    "history = model.fit(train_padded, train_labels, epochs=num_epochs, validation_data=(validation_padded, validation_labels), verbose=1)"
   ]
  },
  {
   "cell_type": "code",
   "execution_count": 167,
   "metadata": {},
   "outputs": [],
   "source": [
    "model.save_weights(checkpoint_prefix + str(datetime.now().strftime(\"_%m-%d-%Y_%H-%M-%S\")))"
   ]
  },
  {
   "cell_type": "code",
   "execution_count": null,
   "metadata": {},
   "outputs": [],
   "source": [
    "optimizer = tf.keras.optimizers.Adam(learning_rate=learning_rate)\n",
    "\n",
    "@tf.function\n",
    "def train_step(x, y): \n",
    "  with tf.GradientTape() as tape:\n",
    "    y_hat = model(x)\n",
    "    loss = compute_loss(y, y_hat)\n",
    "\n",
    "  grads = tape.gradient(loss, model.trainable_variables)\n",
    "  \n",
    "  optimizer.apply_gradients(zip(grads, model.trainable_variables))\n",
    "  return loss"
   ]
  },
  {
   "cell_type": "code",
   "execution_count": 148,
   "metadata": {},
   "outputs": [
    {
     "name": "stderr",
     "output_type": "stream",
     "text": [
      "  0%|          | 2/2000 [00:09<2:45:50,  4.98s/it]"
     ]
    },
    {
     "name": "stdout",
     "output_type": "stream",
     "text": [
      "0.0\n"
     ]
    },
    {
     "name": "stderr",
     "output_type": "stream",
     "text": [
      "\n"
     ]
    }
   ],
   "source": [
    "history = []\n",
    "if hasattr(tqdm, '_instances'): tqdm._instances.clear() # clear if it exists\n",
    "\n",
    "for iter in tqdm(range(num_training_iterations)):\n",
    "\n",
    "  # Grab a batch and propagate it through the network\n",
    "  x_batch, y_batch = get_batch(train_padded, train_labels, batch_size)\n",
    "  loss = train_step(x_batch, y_batch)\n",
    "\n",
    "  # Update the progress bar\n",
    "  history.append(loss.numpy().mean())\n",
    "\n",
    "  # Update the model with the changed weights!\n",
    "  if iter % 100 == 0:     \n",
    "    model.save_weights(checkpoint_prefix)\n",
    "\n",
    "# Save the trained model and the weights\n",
    "model.save_weights(checkpoint_prefix + str(datetime.now().strftime(\"_%m-%d-%Y_%H-%M-%S\")))"
   ]
  },
  {
   "cell_type": "code",
   "execution_count": 168,
   "metadata": {},
   "outputs": [
    {
     "data": {
      "image/png": "[encoded data removed]",
      "text/plain": [
       "<Figure size 432x288 with 1 Axes>"
      ]
     },
     "metadata": {
      "needs_background": "light"
     },
     "output_type": "display_data"
    },
    {
     "data": {
      "image/png": "[encoded data removed]",
      "text/plain": [
       "<Figure size 432x288 with 1 Axes>"
      ]
     },
     "metadata": {
      "needs_background": "light"
     },
     "output_type": "display_data"
    }
   ],
   "source": [
    "from matplotlib import pyplot as plt\n",
    "\n",
    "def plot_graphs(history, string):\n",
    "  plt.plot(history.history[string])\n",
    "  plt.plot(history.history['val_'+string])\n",
    "  plt.xlabel(\"Epochs\")\n",
    "  plt.ylabel(string)\n",
    "  plt.legend([string, 'val_'+string])\n",
    "  plt.show()\n",
    "  \n",
    "plot_graphs(history, \"accuracy\")\n",
    "plot_graphs(history, \"loss\") "
   ]
  },
  {
   "cell_type": "code",
   "execution_count": 209,
   "metadata": {},
   "outputs": [],
   "source": [
    "# \"journal entries\"\n",
    "\n",
    "tech1 = \"Today I bought a new computer, after trying to download RAM on my old laptop and getting a virus. This new model has far more processing power, and a high definition screen. Because of how clear and bright this screen is, it will definitely be replacing my TV.\"\n",
    "tech2 = \"I tried the firefox browser this afternoon, and I think I won't be using google chrome any longer. The default search engine is much more accurate, and it is genuinely an inspiring piece of software. I still need to remove internet explorer from by desktop.\"\n",
    "tech3 = \"Sony just released the new ps5, but as a true gamer, I think I will stick to my xbox. Any gamer knows that playstations and PCs are inferior, and mobile games are unspeakable.\"\n",
    "\n",
    "tech = [tech1, tech2, tech3]\n",
    "\n",
    "sports1 = \"I have been getting into football recently, chelsea is my favorite club. My friends prefer tennis or rugby. I might join a rookie football team one day in my local league.\"\n",
    "sports2 = \"My team lost the world cup. I am sad, but the true victory is the friends we made along the way.\"\n",
    "sports3 = \"chelsea made a brilliant defensive play in the last game. chelsea held most of possession in the second half, and claimed a clean victory.\"\n",
    "\n",
    "sports = [sports1, sports2, sports3]\n",
    "\n",
    "business1 = \"Inflation in the US is causing major economic troubles. The value of the US dollar is at an all time low, and I am losing my life savings to the stock market.\"\n",
    "business2 = \"Major companies should give their employees more paid time off to see an increase in productivity and revenue.\"\n",
    "business3 = \"Can a bank declare bankruptcy? Do insurance companies go into debt?\"\n",
    "\n",
    "business = [business1, business2, business3]\n",
    "\n",
    "politics1 = \"Make sure to cast your votes on election day. The best candidate deserves to govern.\"\n",
    "politics2 = \"Political parties make voting options slim. Why do we all need to vote for the big guy to be useful to the election?\"\n",
    "politics3 = \"Polls say citizens do not want to vote for government officials who start cover up wars.\"\n",
    "\n",
    "politics = [politics1, politics2, politics3]\n",
    "\n",
    "entertainment1 = \"A new movie is premiering tomorrow starring hollywood actor kevin bacon. The production company is hoping for high ratings and high box office sales.\"\n",
    "entertainment2 = \"New rap albums are being released this week. Rap is my favorite genre of music, and should be highlighted more at the grammys. My favorite artist got 10 nominations last year.\"\n",
    "entertainment3 = \"2D animation is much more impressive and artistic than 3D animation. I miss the days of 2D cartoons being the majority of kids shows.\"\n",
    "\n",
    "entertainment = [entertainment1, entertainment2, entertainment3]"
   ]
  },
  {
   "cell_type": "code",
   "execution_count": 210,
   "metadata": {},
   "outputs": [
    {
     "data": {
      "text/plain": [
       "<tensorflow.python.training.tracking.util.CheckpointLoadStatus at 0x2c6b1aaa1f0>"
      ]
     },
     "execution_count": 210,
     "metadata": {},
     "output_type": "execute_result"
    }
   ],
   "source": [
    "model = build_model(rnn_units=rnn_units, dense_units=dense_units, output_units=num_categories)\n",
    "\n",
    "# Restore the model weights for the last checkpoint after training\n",
    "model.load_weights(tf.train.latest_checkpoint(checkpoint_dir))"
   ]
  },
  {
   "cell_type": "code",
   "execution_count": 211,
   "metadata": {},
   "outputs": [
    {
     "name": "stdout",
     "output_type": "stream",
     "text": [
      "[<tf.Tensor: shape=(1, 5), dtype=float32, numpy=\n",
      "array([[0.47330266, 0.09498239, 0.00434075, 0.41458422, 0.01279001]],\n",
      "      dtype=float32)>, <tf.Tensor: shape=(1, 5), dtype=float32, numpy=\n",
      "array([[0.36646235, 0.05269684, 0.00899765, 0.5606835 , 0.01115972]],\n",
      "      dtype=float32)>, <tf.Tensor: shape=(1, 5), dtype=float32, numpy=\n",
      "array([[0.0977043 , 0.09743942, 0.0353365 , 0.7593432 , 0.01017656]],\n",
      "      dtype=float32)>]\n",
      "[<tf.Tensor: shape=(1, 5), dtype=float32, numpy=\n",
      "array([[0.00185033, 0.00116574, 0.84099644, 0.15350957, 0.00247803]],\n",
      "      dtype=float32)>, <tf.Tensor: shape=(1, 5), dtype=float32, numpy=\n",
      "array([[0.00139046, 0.00143031, 0.7903514 , 0.20475093, 0.00207696]],\n",
      "      dtype=float32)>, <tf.Tensor: shape=(1, 5), dtype=float32, numpy=\n",
      "array([[5.2713882e-04, 3.6670733e-04, 9.1295314e-01, 8.5058801e-02,\n",
      "        1.0941519e-03]], dtype=float32)>]\n",
      "[<tf.Tensor: shape=(1, 5), dtype=float32, numpy=\n",
      "array([[0.04972943, 0.5057112 , 0.04109954, 0.3810376 , 0.02242229]],\n",
      "      dtype=float32)>, <tf.Tensor: shape=(1, 5), dtype=float32, numpy=\n",
      "array([[0.06435898, 0.04024057, 0.05542555, 0.82948023, 0.01049466]],\n",
      "      dtype=float32)>, <tf.Tensor: shape=(1, 5), dtype=float32, numpy=\n",
      "array([[0.02900996, 0.19152664, 0.10878477, 0.6552356 , 0.0154431 ]],\n",
      "      dtype=float32)>]\n",
      "[<tf.Tensor: shape=(1, 5), dtype=float32, numpy=\n",
      "array([[0.00878281, 0.01355981, 0.5112014 , 0.45078206, 0.01567394]],\n",
      "      dtype=float32)>, <tf.Tensor: shape=(1, 5), dtype=float32, numpy=\n",
      "array([[0.02704267, 0.05903087, 0.2973371 , 0.5178415 , 0.09874783]],\n",
      "      dtype=float32)>, <tf.Tensor: shape=(1, 5), dtype=float32, numpy=\n",
      "array([[0.01420446, 0.03993669, 0.27979794, 0.40930215, 0.25675878]],\n",
      "      dtype=float32)>]\n",
      "[<tf.Tensor: shape=(1, 5), dtype=float32, numpy=\n",
      "array([[0.20181197, 0.23339845, 0.00867048, 0.5419786 , 0.01414053]],\n",
      "      dtype=float32)>, <tf.Tensor: shape=(1, 5), dtype=float32, numpy=\n",
      "array([[0.0302568 , 0.02811618, 0.18219994, 0.7528771 , 0.00654997]],\n",
      "      dtype=float32)>, <tf.Tensor: shape=(1, 5), dtype=float32, numpy=\n",
      "array([[0.04215862, 0.04377241, 0.14604782, 0.7588669 , 0.00915428]],\n",
      "      dtype=float32)>]\n"
     ]
    }
   ],
   "source": [
    "def w2v(sentences):\n",
    "    processed_sentences = []\n",
    "    for s in sentences:\n",
    "        for word in STOPWORDS:\n",
    "            token = ' ' + word + ' '\n",
    "            s = s.replace(token, ' ')\n",
    "            s = s.replace(' ', ' ')\n",
    "        processed_sentences.append([word for word in re.split(',|_|-|\\!| |\\.|\\(|\\)|\\:|\\?', s) if word != ''])\n",
    "\n",
    "    w2v = [[WVmodel.wv[word] if word in words else padding_value for word in sentence] for sentence in processed_sentences]\n",
    "    return pad(w2v, maxlen=max_length, value=padding_value)\n",
    "\n",
    "def run_model(categoryW2V):\n",
    "    res = []\n",
    "    for sentence in categoryW2V:\n",
    "        y = model(np.array([sentence]))\n",
    "        res.append(y)\n",
    "\n",
    "    print(res)\n",
    "    return res\n",
    "\n",
    "techRes = run_model(w2v(tech))\n",
    "sportsRes = run_model(w2v(sports))\n",
    "businessRes = run_model(w2v(business))\n",
    "politicsRes = run_model(w2v(politics))\n",
    "entertainmentRes = run_model(w2v(entertainment))"
   ]
  },
  {
   "cell_type": "code",
   "execution_count": 212,
   "metadata": {},
   "outputs": [],
   "source": [
    "entry_dict = {}\n",
    "category_list = [\"tech\", \"sports\", \"business\", \"politics\", \"entertainment\"]\n",
    "for i in range(15):\n",
    "    entry_dict[i] = category_list[i//3] + str(i % 3 + 1)"
   ]
  },
  {
   "cell_type": "code",
   "execution_count": 213,
   "metadata": {},
   "outputs": [
    {
     "name": "stdout",
     "output_type": "stream",
     "text": [
      "The most similar entry to tech1 is tech2\n",
      "The most similar entry to tech2 is tech1\n",
      "The most similar entry to tech3 is business2\n",
      "The most similar entry to sports1 is sports2\n",
      "The most similar entry to sports2 is sports1\n",
      "The most similar entry to sports3 is sports1\n",
      "The most similar entry to business1 is entertainment1\n",
      "The most similar entry to business2 is tech3\n",
      "The most similar entry to business3 is tech3\n",
      "The most similar entry to politics1 is politics2\n",
      "The most similar entry to politics2 is politics3\n",
      "The most similar entry to politics3 is politics2\n",
      "The most similar entry to entertainment1 is business3\n",
      "The most similar entry to entertainment2 is entertainment3\n",
      "The most similar entry to entertainment3 is entertainment2\n"
     ]
    }
   ],
   "source": [
    "results = techRes + sportsRes + businessRes + politicsRes + entertainmentRes\n",
    "\n",
    "def test_model(test_ind):\n",
    "    cur = np.array(results[test_ind][0])\n",
    "\n",
    "    most_sim_ind = None\n",
    "    similarity = None\n",
    "\n",
    "    for i in range(len(results)):\n",
    "        if i == test_ind:\n",
    "            continue\n",
    "        comp = np.array(results[i][0])\n",
    "        dist = np.linalg.norm(cur - comp)\n",
    "        if similarity == None or dist < similarity:\n",
    "            most_sim_ind = i\n",
    "            similarity = dist\n",
    "\n",
    "    print(\"The most similar entry to \" + entry_dict[test_ind] + \" is \" + entry_dict[most_sim_ind])\n",
    "\n",
    "for i in range(len(results)):\n",
    "    test_model(i)"
   ]
  },
  {
   "cell_type": "code",
   "execution_count": null,
   "metadata": {},
   "outputs": [],
   "source": []
  }
 ],
 "metadata": {
  "interpreter": {
   "hash": "07759dc2ae76fc822dfeac8d7ff0a5b71e04b962bfdad2606d9e679ad765db71"
  },
  "kernelspec": {
   "display_name": "Python 3.8.5 64-bit ('base': conda)",
   "language": "python",
   "name": "python3"
  },
  "language_info": {
   "codemirror_mode": {
    "name": "ipython",
    "version": 3
   },
   "file_extension": ".py",
   "mimetype": "text/x-python",
   "name": "python",
   "nbconvert_exporter": "python",
   "pygments_lexer": "ipython3",
   "version": "3.8.5"
  },
  "orig_nbformat": 4
 },
 "nbformat": 4,
 "nbformat_minor": 2
}
